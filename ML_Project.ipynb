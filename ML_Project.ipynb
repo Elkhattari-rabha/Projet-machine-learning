{
  "nbformat": 4,
  "nbformat_minor": 0,
  "metadata": {
    "colab": {
      "name": "ML-Project",
      "provenance": [],
      "collapsed_sections": []
    },
    "kernelspec": {
      "name": "python3",
      "display_name": "Python 3"
    }
  },
  "cells": [
    {
      "cell_type": "code",
      "metadata": {
        "colab_type": "code",
        "id": "BOFKTp-t2WyK",
        "outputId": "98ac1025-6bed-4287-91cb-80a6dcf37f1c",
        "colab": {
          "base_uri": "https://localhost:8080/",
          "height": 54
        }
      },
      "source": [
        "from google.colab import drive\n",
        "drive.mount('/content/drive')"
      ],
      "execution_count": 20,
      "outputs": [
        {
          "output_type": "stream",
          "text": [
            "Drive already mounted at /content/drive; to attempt to forcibly remount, call drive.mount(\"/content/drive\", force_remount=True).\n"
          ],
          "name": "stdout"
        }
      ]
    },
    {
      "cell_type": "code",
      "metadata": {
        "id": "3nvPL4GUamD5",
        "colab_type": "code",
        "outputId": "ad014d4f-fecf-455b-deea-a0ab124c2c0c",
        "colab": {
          "base_uri": "https://localhost:8080/",
          "height": 34
        }
      },
      "source": [
        "from scipy.io import loadmat\n",
        "data_path1='/content/drive/My Drive/notre base de données/'\n",
        "print(\"Loading data training set\")        \n",
        "dataset =loadmat('/content/drive/My Drive/notre base de données/' + 'trainingset.mat')\n",
        "X = dataset['trainset']\n",
        "y = dataset['traintarget']"
      ],
      "execution_count": 21,
      "outputs": [
        {
          "output_type": "stream",
          "text": [
            "Loading data training set\n"
          ],
          "name": "stdout"
        }
      ]
    },
    {
      "cell_type": "code",
      "metadata": {
        "id": "wCVJmbSCbIDL",
        "colab_type": "code",
        "colab": {}
      },
      "source": [
        "import numpy as np\n",
        "from sklearn.model_selection import train_test_split\n",
        "X_train1,X_test,y_train1,y_test=train_test_split(X,y,test_size=0.2)\n",
        "X_train,X_val,y_train,y_val=train_test_split(X_train1,y_train1,test_size=0.1)"
      ],
      "execution_count": 0,
      "outputs": []
    },
    {
      "cell_type": "code",
      "metadata": {
        "id": "k44mS7NsDgxp",
        "colab_type": "code",
        "colab": {}
      },
      "source": [
        "\n",
        "from __future__ import absolute_import, division, print_function, unicode_literals\n",
        "\n",
        "import tensorflow as tf\n",
        "\n",
        "from tensorflow import keras\n"
      ],
      "execution_count": 0,
      "outputs": []
    },
    {
      "cell_type": "code",
      "metadata": {
        "id": "vOIG4aH5bqeh",
        "colab_type": "code",
        "colab": {}
      },
      "source": [
        "from tensorflow.keras import layers\n",
        "#notre model est vide mtn qu'on va le remplir\n",
        "model = tf.keras.Sequential()\n",
        "#input_dim nbr de variable en entré \n",
        "model.add(layers.Dense(128,activation=\"relu\"))\n",
        "#par default l'entré \n",
        "model.add(layers.Dense(64,activation=\"relu\"))\n",
        "model.add(layers.Dense(4,activation=\"relu\"))"
      ],
      "execution_count": 0,
      "outputs": []
    },
    {
      "cell_type": "code",
      "metadata": {
        "id": "4CzpP9FgsnZk",
        "colab_type": "code",
        "colab": {}
      },
      "source": [
        "#accurancy=nbr correct  des predictions sur le nbr total\n",
        "\n",
        "model.compile(loss=\"binary_crossentropy\",optimizer=\"sgd\",metrics=[\"accuracy\"])"
      ],
      "execution_count": 0,
      "outputs": []
    },
    {
      "cell_type": "code",
      "metadata": {
        "id": "1iWIJmK_syVd",
        "colab_type": "code",
        "outputId": "0e156c7d-7fd0-4034-f157-e58bf228ccb5",
        "colab": {
          "base_uri": "https://localhost:8080/",
          "height": 1000
        }
      },
      "source": [
        "#batc_size = le lot qui contient les element à traiter à la fois \n",
        "history=model.fit(X_train,y_train,validation_data=(X_val,y_val),epochs=60,batch_size=100)\n",
        "#_,acc=model.evaluate(X,y"
      ],
      "execution_count": 26,
      "outputs": [
        {
          "output_type": "stream",
          "text": [
            "Epoch 1/60\n",
            "101/101 [==============================] - 3s 29ms/step - loss: 1.7965 - accuracy: 0.3704 - val_loss: 1.8139 - val_accuracy: 0.3596\n",
            "Epoch 2/60\n",
            "101/101 [==============================] - 3s 28ms/step - loss: 1.9675 - accuracy: 0.3780 - val_loss: 1.8303 - val_accuracy: 0.3596\n",
            "Epoch 3/60\n",
            "101/101 [==============================] - 3s 28ms/step - loss: 1.6976 - accuracy: 0.3685 - val_loss: 1.6923 - val_accuracy: 0.3596\n",
            "Epoch 4/60\n",
            "101/101 [==============================] - 3s 28ms/step - loss: 1.6219 - accuracy: 0.3714 - val_loss: 1.6928 - val_accuracy: 0.3596\n",
            "Epoch 5/60\n",
            "101/101 [==============================] - 3s 28ms/step - loss: 1.6154 - accuracy: 0.3698 - val_loss: 1.6863 - val_accuracy: 0.3587\n",
            "Epoch 6/60\n",
            "101/101 [==============================] - 3s 28ms/step - loss: 1.6204 - accuracy: 0.3719 - val_loss: 1.6894 - val_accuracy: 0.3596\n",
            "Epoch 7/60\n",
            "101/101 [==============================] - 3s 28ms/step - loss: 1.6254 - accuracy: 0.3705 - val_loss: 1.6914 - val_accuracy: 0.3596\n",
            "Epoch 8/60\n",
            "101/101 [==============================] - 3s 29ms/step - loss: 1.6212 - accuracy: 0.3689 - val_loss: 1.6875 - val_accuracy: 0.3596\n",
            "Epoch 9/60\n",
            "101/101 [==============================] - 3s 29ms/step - loss: 1.6154 - accuracy: 0.3718 - val_loss: 1.6909 - val_accuracy: 0.3596\n",
            "Epoch 10/60\n",
            "101/101 [==============================] - 3s 29ms/step - loss: 1.6284 - accuracy: 0.3720 - val_loss: 1.6869 - val_accuracy: 0.3596\n",
            "Epoch 11/60\n",
            "101/101 [==============================] - 3s 30ms/step - loss: 1.6194 - accuracy: 0.3721 - val_loss: 1.6925 - val_accuracy: 0.3596\n",
            "Epoch 12/60\n",
            "101/101 [==============================] - 3s 28ms/step - loss: 1.6196 - accuracy: 0.3720 - val_loss: 1.6901 - val_accuracy: 0.3596\n",
            "Epoch 13/60\n",
            "101/101 [==============================] - 3s 29ms/step - loss: 1.6168 - accuracy: 0.3721 - val_loss: 1.6897 - val_accuracy: 0.3596\n",
            "Epoch 14/60\n",
            "101/101 [==============================] - 3s 28ms/step - loss: 1.6168 - accuracy: 0.3721 - val_loss: 1.6903 - val_accuracy: 0.3596\n",
            "Epoch 15/60\n",
            "101/101 [==============================] - 3s 29ms/step - loss: 1.6215 - accuracy: 0.3721 - val_loss: 1.6897 - val_accuracy: 0.3596\n",
            "Epoch 16/60\n",
            "101/101 [==============================] - 3s 29ms/step - loss: 1.6173 - accuracy: 0.3721 - val_loss: 1.6898 - val_accuracy: 0.3596\n",
            "Epoch 17/60\n",
            "101/101 [==============================] - 3s 28ms/step - loss: 1.6239 - accuracy: 0.3721 - val_loss: 1.6927 - val_accuracy: 0.3596\n",
            "Epoch 18/60\n",
            "101/101 [==============================] - 3s 28ms/step - loss: 1.6185 - accuracy: 0.3720 - val_loss: 1.6899 - val_accuracy: 0.3596\n",
            "Epoch 19/60\n",
            "101/101 [==============================] - 3s 28ms/step - loss: 1.6157 - accuracy: 0.3719 - val_loss: 1.6897 - val_accuracy: 0.3596\n",
            "Epoch 20/60\n",
            "101/101 [==============================] - 3s 28ms/step - loss: 1.6258 - accuracy: 0.3721 - val_loss: 1.6907 - val_accuracy: 0.3596\n",
            "Epoch 21/60\n",
            "101/101 [==============================] - 3s 28ms/step - loss: 1.6150 - accuracy: 0.3721 - val_loss: 1.6907 - val_accuracy: 0.3596\n",
            "Epoch 22/60\n",
            "101/101 [==============================] - 3s 28ms/step - loss: 1.6262 - accuracy: 0.3720 - val_loss: 1.6916 - val_accuracy: 0.3596\n",
            "Epoch 23/60\n",
            "101/101 [==============================] - 3s 28ms/step - loss: 1.6240 - accuracy: 0.3721 - val_loss: 1.6866 - val_accuracy: 0.3596\n",
            "Epoch 24/60\n",
            "101/101 [==============================] - 3s 28ms/step - loss: 1.6200 - accuracy: 0.3721 - val_loss: 1.6900 - val_accuracy: 0.3596\n",
            "Epoch 25/60\n",
            "101/101 [==============================] - 3s 28ms/step - loss: 1.6176 - accuracy: 0.3721 - val_loss: 1.6838 - val_accuracy: 0.3596\n",
            "Epoch 26/60\n",
            "101/101 [==============================] - 3s 28ms/step - loss: 1.6197 - accuracy: 0.3721 - val_loss: 1.6904 - val_accuracy: 0.3596\n",
            "Epoch 27/60\n",
            "101/101 [==============================] - 3s 28ms/step - loss: 1.6178 - accuracy: 0.3721 - val_loss: 1.6928 - val_accuracy: 0.3596\n",
            "Epoch 28/60\n",
            "101/101 [==============================] - 3s 28ms/step - loss: 1.6196 - accuracy: 0.3720 - val_loss: 1.6907 - val_accuracy: 0.3596\n",
            "Epoch 29/60\n",
            "101/101 [==============================] - 3s 28ms/step - loss: 1.6227 - accuracy: 0.3721 - val_loss: 1.6925 - val_accuracy: 0.3596\n",
            "Epoch 30/60\n",
            "101/101 [==============================] - 3s 28ms/step - loss: 1.6187 - accuracy: 0.3721 - val_loss: 1.6903 - val_accuracy: 0.3596\n",
            "Epoch 31/60\n",
            "101/101 [==============================] - 3s 28ms/step - loss: 1.6123 - accuracy: 0.3721 - val_loss: 1.6871 - val_accuracy: 0.3596\n",
            "Epoch 32/60\n",
            "101/101 [==============================] - 3s 28ms/step - loss: 1.6189 - accuracy: 0.3720 - val_loss: 1.6841 - val_accuracy: 0.3596\n",
            "Epoch 33/60\n",
            "101/101 [==============================] - 3s 28ms/step - loss: 1.6188 - accuracy: 0.3721 - val_loss: 1.6868 - val_accuracy: 0.3596\n",
            "Epoch 34/60\n",
            "101/101 [==============================] - 3s 28ms/step - loss: 1.6154 - accuracy: 0.3720 - val_loss: 1.6916 - val_accuracy: 0.3596\n",
            "Epoch 35/60\n",
            "101/101 [==============================] - 3s 28ms/step - loss: 1.6201 - accuracy: 0.3721 - val_loss: 1.6901 - val_accuracy: 0.3596\n",
            "Epoch 36/60\n",
            "101/101 [==============================] - 3s 28ms/step - loss: 1.6112 - accuracy: 0.3721 - val_loss: 1.6908 - val_accuracy: 0.3596\n",
            "Epoch 37/60\n",
            "101/101 [==============================] - 3s 28ms/step - loss: 1.6195 - accuracy: 0.3721 - val_loss: 1.6904 - val_accuracy: 0.3596\n",
            "Epoch 38/60\n",
            "101/101 [==============================] - 3s 28ms/step - loss: 1.6202 - accuracy: 0.3721 - val_loss: 1.6894 - val_accuracy: 0.3596\n",
            "Epoch 39/60\n",
            "101/101 [==============================] - 3s 28ms/step - loss: 1.6253 - accuracy: 0.3719 - val_loss: 1.6899 - val_accuracy: 0.3596\n",
            "Epoch 40/60\n",
            "101/101 [==============================] - 3s 28ms/step - loss: 1.6109 - accuracy: 0.3721 - val_loss: 1.6905 - val_accuracy: 0.3596\n",
            "Epoch 41/60\n",
            "101/101 [==============================] - 3s 28ms/step - loss: 1.6185 - accuracy: 0.3720 - val_loss: 1.6898 - val_accuracy: 0.3596\n",
            "Epoch 42/60\n",
            "101/101 [==============================] - 3s 28ms/step - loss: 1.6194 - accuracy: 0.3721 - val_loss: 1.6897 - val_accuracy: 0.3596\n",
            "Epoch 43/60\n",
            "101/101 [==============================] - 3s 28ms/step - loss: 1.6129 - accuracy: 0.3721 - val_loss: 1.6907 - val_accuracy: 0.3596\n",
            "Epoch 44/60\n",
            "101/101 [==============================] - 3s 28ms/step - loss: 1.6198 - accuracy: 0.3721 - val_loss: 1.6899 - val_accuracy: 0.3596\n",
            "Epoch 45/60\n",
            "101/101 [==============================] - 3s 28ms/step - loss: 1.6145 - accuracy: 0.3720 - val_loss: 1.6911 - val_accuracy: 0.3596\n",
            "Epoch 46/60\n",
            "101/101 [==============================] - 3s 28ms/step - loss: 1.6154 - accuracy: 0.3721 - val_loss: 1.6872 - val_accuracy: 0.3596\n",
            "Epoch 47/60\n",
            "101/101 [==============================] - 3s 28ms/step - loss: 1.6166 - accuracy: 0.3721 - val_loss: 1.6910 - val_accuracy: 0.3596\n",
            "Epoch 48/60\n",
            "101/101 [==============================] - 3s 28ms/step - loss: 1.6232 - accuracy: 0.3720 - val_loss: 1.6927 - val_accuracy: 0.3596\n",
            "Epoch 49/60\n",
            "101/101 [==============================] - 3s 28ms/step - loss: 1.6185 - accuracy: 0.3721 - val_loss: 1.6904 - val_accuracy: 0.3596\n",
            "Epoch 50/60\n",
            "101/101 [==============================] - 3s 28ms/step - loss: 1.6128 - accuracy: 0.3720 - val_loss: 1.6896 - val_accuracy: 0.3596\n",
            "Epoch 51/60\n",
            "101/101 [==============================] - 3s 28ms/step - loss: 1.6133 - accuracy: 0.3720 - val_loss: 1.6882 - val_accuracy: 0.3596\n",
            "Epoch 52/60\n",
            "101/101 [==============================] - 3s 28ms/step - loss: 1.6142 - accuracy: 0.3720 - val_loss: 1.6868 - val_accuracy: 0.3596\n",
            "Epoch 53/60\n",
            "101/101 [==============================] - 3s 28ms/step - loss: 1.6200 - accuracy: 0.3721 - val_loss: 1.6905 - val_accuracy: 0.3596\n",
            "Epoch 54/60\n",
            "101/101 [==============================] - 3s 29ms/step - loss: 1.6161 - accuracy: 0.3720 - val_loss: 1.6929 - val_accuracy: 0.3596\n",
            "Epoch 55/60\n",
            "101/101 [==============================] - 3s 28ms/step - loss: 1.6158 - accuracy: 0.3720 - val_loss: 1.6867 - val_accuracy: 0.3596\n",
            "Epoch 56/60\n",
            "101/101 [==============================] - 3s 28ms/step - loss: 1.6217 - accuracy: 0.3720 - val_loss: 1.6898 - val_accuracy: 0.3596\n",
            "Epoch 57/60\n",
            "101/101 [==============================] - 3s 28ms/step - loss: 1.6158 - accuracy: 0.3720 - val_loss: 1.6895 - val_accuracy: 0.3596\n",
            "Epoch 58/60\n",
            "101/101 [==============================] - 3s 29ms/step - loss: 1.6217 - accuracy: 0.3720 - val_loss: 1.6925 - val_accuracy: 0.3596\n",
            "Epoch 59/60\n",
            "101/101 [==============================] - 3s 28ms/step - loss: 1.6217 - accuracy: 0.3720 - val_loss: 1.6927 - val_accuracy: 0.3596\n",
            "Epoch 60/60\n",
            "101/101 [==============================] - 3s 28ms/step - loss: 1.6217 - accuracy: 0.3720 - val_loss: 1.6924 - val_accuracy: 0.3596\n"
          ],
          "name": "stdout"
        }
      ]
    },
    {
      "cell_type": "code",
      "metadata": {
        "id": "xtoGgP8up2nE",
        "colab_type": "code",
        "outputId": "6b70b2db-e6bc-474d-c052-31c49c0d0a74",
        "colab": {
          "base_uri": "https://localhost:8080/",
          "height": 139
        }
      },
      "source": [
        "\n",
        "# The returned \"history\" object holds a record of the loss values and metric values during training\n",
        "print('\\nhistory dict:', history.history)\n",
        "\n",
        "# Evaluate the model on the test data using `evaluate`\n",
        "print('\\n# Evaluate on test data')\n",
        "results = model.evaluate(X_test, y_test, batch_size=128)\n",
        "print('test loss, test acc:', results)\n",
        "#prediction \n",
        "#model.predict(X_val)"
      ],
      "execution_count": 27,
      "outputs": [
        {
          "output_type": "stream",
          "text": [
            "\n",
            "history dict: {'loss': [1.7965210676193237, 1.9674646854400635, 1.6976369619369507, 1.6218904256820679, 1.61543607711792, 1.6203922033309937, 1.6253726482391357, 1.6211621761322021, 1.6153687238693237, 1.6284362077713013, 1.619412899017334, 1.6196266412734985, 1.6167781352996826, 1.6167739629745483, 1.6214923858642578, 1.6173394918441772, 1.623935341835022, 1.6184978485107422, 1.6157066822052002, 1.625847578048706, 1.6149669885635376, 1.6261686086654663, 1.6240087747573853, 1.6199651956558228, 1.6176451444625854, 1.619678020477295, 1.6178219318389893, 1.6195621490478516, 1.6226537227630615, 1.6186877489089966, 1.612305998802185, 1.618915319442749, 1.6188348531723022, 1.6153868436813354, 1.6200544834136963, 1.6111881732940674, 1.6194891929626465, 1.6201907396316528, 1.6252679824829102, 1.6109312772750854, 1.6185026168823242, 1.619432806968689, 1.6129403114318848, 1.6197803020477295, 1.6144623756408691, 1.6154338121414185, 1.6165708303451538, 1.6232120990753174, 1.6185200214385986, 1.6128058433532715, 1.6132874488830566, 1.6141822338104248, 1.6199638843536377, 1.6161189079284668, 1.6158188581466675, 1.62174654006958, 1.6157925128936768, 1.6217459440231323, 1.6217308044433594, 1.621677041053772], 'accuracy': [0.3704368770122528, 0.3780171573162079, 0.36854177713394165, 0.3714342713356018, 0.3698384165763855, 0.3719329833984375, 0.37053659558296204, 0.3689407408237457, 0.3718332350254059, 0.37203270196914673, 0.37213245034217834, 0.37203270196914673, 0.37213245034217834, 0.37213245034217834, 0.37213245034217834, 0.37213245034217834, 0.37213245034217834, 0.37203270196914673, 0.3719329833984375, 0.37213245034217834, 0.37213245034217834, 0.37203270196914673, 0.37213245034217834, 0.37213245034217834, 0.37213245034217834, 0.37213245034217834, 0.37213245034217834, 0.37203270196914673, 0.37213245034217834, 0.37213245034217834, 0.37213245034217834, 0.37203270196914673, 0.37213245034217834, 0.37203270196914673, 0.37213245034217834, 0.37213245034217834, 0.37213245034217834, 0.37213245034217834, 0.3719329833984375, 0.37213245034217834, 0.37203270196914673, 0.37213245034217834, 0.37213245034217834, 0.37213245034217834, 0.37203270196914673, 0.37213245034217834, 0.37213245034217834, 0.37203270196914673, 0.37213245034217834, 0.37203270196914673, 0.37203270196914673, 0.37203270196914673, 0.37213245034217834, 0.37203270196914673, 0.37203270196914673, 0.37203270196914673, 0.37203270196914673, 0.37203270196914673, 0.37203270196914673, 0.37203270196914673], 'val_loss': [1.813863754272461, 1.830318808555603, 1.6923466920852661, 1.6927852630615234, 1.6862913370132446, 1.6894198656082153, 1.6914377212524414, 1.6875156164169312, 1.690855860710144, 1.6869312524795532, 1.6924723386764526, 1.6900614500045776, 1.6897236108779907, 1.6902995109558105, 1.6897395849227905, 1.6898112297058105, 1.6926507949829102, 1.6899019479751587, 1.68973970413208, 1.6907097101211548, 1.6906954050064087, 1.6915521621704102, 1.6866445541381836, 1.6900287866592407, 1.6837941408157349, 1.6903554201126099, 1.6928339004516602, 1.6906718015670776, 1.692465901374817, 1.690269112586975, 1.6871123313903809, 1.6841353178024292, 1.6868133544921875, 1.6916275024414062, 1.690075397491455, 1.690837025642395, 1.6903752088546753, 1.6893863677978516, 1.6898669004440308, 1.6904884576797485, 1.6897817850112915, 1.689717411994934, 1.6906986236572266, 1.689916968345642, 1.6911474466323853, 1.687172532081604, 1.6909738779067993, 1.6926742792129517, 1.690442442893982, 1.689550757408142, 1.688150405883789, 1.686806321144104, 1.6904726028442383, 1.6928696632385254, 1.6867303848266602, 1.6897987127304077, 1.6895108222961426, 1.692508578300476, 1.6927305459976196, 1.69236421585083], 'val_accuracy': [0.35964125394821167, 0.35964125394821167, 0.35964125394821167, 0.35964125394821167, 0.35874438285827637, 0.35964125394821167, 0.35964125394821167, 0.35964125394821167, 0.35964125394821167, 0.35964125394821167, 0.35964125394821167, 0.35964125394821167, 0.35964125394821167, 0.35964125394821167, 0.35964125394821167, 0.35964125394821167, 0.35964125394821167, 0.35964125394821167, 0.35964125394821167, 0.35964125394821167, 0.35964125394821167, 0.35964125394821167, 0.35964125394821167, 0.35964125394821167, 0.35964125394821167, 0.35964125394821167, 0.35964125394821167, 0.35964125394821167, 0.35964125394821167, 0.35964125394821167, 0.35964125394821167, 0.35964125394821167, 0.35964125394821167, 0.35964125394821167, 0.35964125394821167, 0.35964125394821167, 0.35964125394821167, 0.35964125394821167, 0.35964125394821167, 0.35964125394821167, 0.35964125394821167, 0.35964125394821167, 0.35964125394821167, 0.35964125394821167, 0.35964125394821167, 0.35964125394821167, 0.35964125394821167, 0.35964125394821167, 0.35964125394821167, 0.35964125394821167, 0.35964125394821167, 0.35964125394821167, 0.35964125394821167, 0.35964125394821167, 0.35964125394821167, 0.35964125394821167, 0.35964125394821167, 0.35964125394821167, 0.35964125394821167, 0.35964125394821167]}\n",
            "\n",
            "# Evaluate on test data\n",
            "22/22 [==============================] - 0s 15ms/step - loss: 1.6113 - accuracy: 0.3686\n",
            "test loss, test acc: [1.6112898588180542, 0.3686288595199585]\n"
          ],
          "name": "stdout"
        }
      ]
    },
    {
      "cell_type": "code",
      "metadata": {
        "id": "c-V1e8_iLV3L",
        "colab_type": "code",
        "colab": {}
      },
      "source": [
        ""
      ],
      "execution_count": 0,
      "outputs": []
    },
    {
      "cell_type": "code",
      "metadata": {
        "id": "206pJQUjLfQe",
        "colab_type": "code",
        "outputId": "898871a7-f4a1-4bf9-f6d0-6285e6bad684",
        "colab": {
          "base_uri": "https://localhost:8080/",
          "height": 319
        }
      },
      "source": [
        "# #Tracer  la courbe   de la fonction de perte du model pour training et testing \n",
        "plt.plot(history.history['loss'], 'g', linewidth=3.0, label='Training Loss')\n",
        "plt.plot(history.history['val_loss'], 'y', linewidth=3.0, label='Testing Loss')\n",
        "plt.legend(fontsize=18)\n",
        "plt.xlabel('Epochs ', fontsize=16)\n",
        "plt.ylabel('Loss', fontsize=16)\n",
        "plt.title('Loss Curves', fontsize=16)"
      ],
      "execution_count": 28,
      "outputs": [
        {
          "output_type": "execute_result",
          "data": {
            "text/plain": [
              "Text(0.5, 1.0, 'Loss Curves')"
            ]
          },
          "metadata": {
            "tags": []
          },
          "execution_count": 28
        },
        {
          "output_type": "display_data",
          "data": {
            "image/png": "[encoded data removed]",
            "text/plain": [
              "<Figure size 432x288 with 1 Axes>"
            ]
          },
          "metadata": {
            "tags": []
          }
        }
      ]
    },
    {
      "cell_type": "code",
      "metadata": {
        "id": "Q5iLhc08DbYx",
        "colab_type": "code",
        "outputId": "578934cf-394b-4dcc-9e86-44f1d3fe7289",
        "colab": {
          "base_uri": "https://localhost:8080/",
          "height": 319
        }
      },
      "source": [
        "#Tracer  la courbe   Accuracy du model pour training et testing \n",
        "import matplotlib.pyplot as plt\n",
        "plt.plot(history.history['accuracy'],'r',linewidth=3.0, label='Training Accuracy')\n",
        "plt.plot(history.history['val_accuracy'],'b',linewidth=3.0, label='Testing Accuracy')\n",
        "plt.legend(fontsize=18)\n",
        "plt.xlabel('Epochs ', fontsize=16)\n",
        "plt.ylabel('Accuracy', fontsize=16)\n",
        "plt.title('Accuracy Curves', fontsize=16)"
      ],
      "execution_count": 29,
      "outputs": [
        {
          "output_type": "execute_result",
          "data": {
            "text/plain": [
              "Text(0.5, 1.0, 'Accuracy Curves')"
            ]
          },
          "metadata": {
            "tags": []
          },
          "execution_count": 29
        },
        {
          "output_type": "display_data",
          "data": {
            "image/png": "[encoded data removed]",
            "text/plain": [
              "<Figure size 432x288 with 1 Axes>"
            ]
          },
          "metadata": {
            "tags": []
          }
        }
      ]
    },
    {
      "cell_type": "code",
      "metadata": {
        "id": "dY_NrBKqeme7",
        "colab_type": "code",
        "colab": {}
      },
      "source": [
        ""
      ],
      "execution_count": 0,
      "outputs": []
    }
  ]
}